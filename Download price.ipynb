{
 "cells": [
  {
   "cell_type": "code",
   "execution_count": 1,
   "metadata": {
    "collapsed": true
   },
   "outputs": [],
   "source": [
    "import pandas as pd"
   ]
  },
  {
   "cell_type": "code",
   "execution_count": 21,
   "metadata": {
    "collapsed": true
   },
   "outputs": [],
   "source": [
    "def downloadFromAlphavantage(function, symbol, interval):\n",
    "    key = \"I52KGAF7VGDN30F7\"\n",
    "    url = \"https://www.alphavantage.co/query?function=%s&symbol=%s&interval=1min&apikey=%s&datatype=csv&outputsize=full\" % (function, symbol, key)\n",
    "    print(\"downloading from: %s\" % url)\n",
    "  \n",
    "    return pd.read_csv(url)\n",
    "\n",
    "def downloadTimeSeriesIntraday(symbol):\n",
    "    return downloadFromAlphavantage(\"TIME_SERIES_INTRADAY\", symbol, \"1min\")\n",
    "   \n"
   ]
  },
  {
   "cell_type": "code",
   "execution_count": 22,
   "metadata": {},
   "outputs": [
    {
     "name": "stdout",
     "output_type": "stream",
     "text": [
      "downloading from: https://www.alphavantage.co/query?function=TIME_SERIES_INTRADAY&symbol=MSFT&interval=1min&apikey=I52KGAF7VGDN30F7&datatype=csv&outputsize=full\n"
     ]
    }
   ],
   "source": [
    "ds = downloadTimeSeriesIntraday('MSFT')"
   ]
  },
  {
   "cell_type": "code",
   "execution_count": 25,
   "metadata": {
    "scrolled": true
   },
   "outputs": [
    {
     "data": {
      "text/html": [
       "<div>\n",
       "<style>\n",
       "    .dataframe thead tr:only-child th {\n",
       "        text-align: right;\n",
       "    }\n",
       "\n",
       "    .dataframe thead th {\n",
       "        text-align: left;\n",
       "    }\n",
       "\n",
       "    .dataframe tbody tr th {\n",
       "        vertical-align: top;\n",
       "    }\n",
       "</style>\n",
       "<table border=\"1\" class=\"dataframe\">\n",
       "  <thead>\n",
       "    <tr style=\"text-align: right;\">\n",
       "      <th></th>\n",
       "      <th>timestamp</th>\n",
       "      <th>open</th>\n",
       "      <th>high</th>\n",
       "      <th>low</th>\n",
       "      <th>close</th>\n",
       "      <th>volume</th>\n",
       "    </tr>\n",
       "  </thead>\n",
       "  <tbody>\n",
       "    <tr>\n",
       "      <th>0</th>\n",
       "      <td>2017-10-16 16:00:00</td>\n",
       "      <td>77.670</td>\n",
       "      <td>77.685</td>\n",
       "      <td>77.6300</td>\n",
       "      <td>77.650</td>\n",
       "      <td>1538416</td>\n",
       "    </tr>\n",
       "    <tr>\n",
       "      <th>1</th>\n",
       "      <td>2017-10-16 15:59:00</td>\n",
       "      <td>77.615</td>\n",
       "      <td>77.680</td>\n",
       "      <td>77.6150</td>\n",
       "      <td>77.670</td>\n",
       "      <td>98104</td>\n",
       "    </tr>\n",
       "    <tr>\n",
       "      <th>2</th>\n",
       "      <td>2017-10-16 15:58:00</td>\n",
       "      <td>77.600</td>\n",
       "      <td>77.620</td>\n",
       "      <td>77.5944</td>\n",
       "      <td>77.620</td>\n",
       "      <td>103063</td>\n",
       "    </tr>\n",
       "    <tr>\n",
       "      <th>3</th>\n",
       "      <td>2017-10-16 15:57:00</td>\n",
       "      <td>77.580</td>\n",
       "      <td>77.610</td>\n",
       "      <td>77.5700</td>\n",
       "      <td>77.595</td>\n",
       "      <td>52522</td>\n",
       "    </tr>\n",
       "    <tr>\n",
       "      <th>4</th>\n",
       "      <td>2017-10-16 15:56:00</td>\n",
       "      <td>77.560</td>\n",
       "      <td>77.580</td>\n",
       "      <td>77.5500</td>\n",
       "      <td>77.575</td>\n",
       "      <td>91637</td>\n",
       "    </tr>\n",
       "  </tbody>\n",
       "</table>\n",
       "</div>"
      ],
      "text/plain": [
       "             timestamp    open    high      low   close   volume\n",
       "0  2017-10-16 16:00:00  77.670  77.685  77.6300  77.650  1538416\n",
       "1  2017-10-16 15:59:00  77.615  77.680  77.6150  77.670    98104\n",
       "2  2017-10-16 15:58:00  77.600  77.620  77.5944  77.620   103063\n",
       "3  2017-10-16 15:57:00  77.580  77.610  77.5700  77.595    52522\n",
       "4  2017-10-16 15:56:00  77.560  77.580  77.5500  77.575    91637"
      ]
     },
     "execution_count": 25,
     "metadata": {},
     "output_type": "execute_result"
    }
   ],
   "source": [
    "ds.head()"
   ]
  },
  {
   "cell_type": "code",
   "execution_count": 8,
   "metadata": {},
   "outputs": [],
   "source": [
    "str = \"a %s b %s\" % (\"test\" , \"aaa\")"
   ]
  },
  {
   "cell_type": "code",
   "execution_count": 9,
   "metadata": {},
   "outputs": [
    {
     "data": {
      "text/plain": [
       "'a test b aaa'"
      ]
     },
     "execution_count": 9,
     "metadata": {},
     "output_type": "execute_result"
    }
   ],
   "source": [
    "str"
   ]
  }
 ],
 "metadata": {
  "kernelspec": {
   "display_name": "Python 3",
   "language": "python",
   "name": "python3"
  },
  "language_info": {
   "codemirror_mode": {
    "name": "ipython",
    "version": 3
   },
   "file_extension": ".py",
   "mimetype": "text/x-python",
   "name": "python",
   "nbconvert_exporter": "python",
   "pygments_lexer": "ipython3",
   "version": "3.6.1"
  }
 },
 "nbformat": 4,
 "nbformat_minor": 2
}
