{
 "cells": [
  {
   "cell_type": "code",
   "execution_count": 1,
   "metadata": {
    "collapsed": true
   },
   "outputs": [],
   "source": [
    "import os\n",
    "\n",
    "os.environ['QT_API'] = 'pyside'\n",
    "%matplotlib inline  "
   ]
  },
  {
   "cell_type": "code",
   "execution_count": null,
   "metadata": {
    "collapsed": true
   },
   "outputs": [],
   "source": []
  },
  {
   "cell_type": "code",
   "execution_count": 2,
   "metadata": {
    "collapsed": true
   },
   "outputs": [],
   "source": [
    "# QSTK Imports\n",
    "import QSTK.qstkutil.qsdateutil as du\n",
    "import QSTK.qstkutil.tsutil as tsu\n",
    "import QSTK.qstkutil.DataAccess as da\n",
    "\n",
    "# Third Party Imports\n",
    "import datetime as dt\n",
    "import matplotlib.pyplot as plt\n",
    "import pandas as pd\n",
    "import numpy as np"
   ]
  },
  {
   "cell_type": "code",
   "execution_count": 3,
   "metadata": {},
   "outputs": [
    {
     "name": "stdout",
     "output_type": "stream",
     "text": [
      "[('SPY', 0.30000001192092896) ('GABBA', 0.20000000298023224)\n",
      " ('GLD', 0.30000001192092896) ('7ABBA', 0.20000000298023224)]\n"
     ]
    }
   ],
   "source": [
    "    # Reading the portfolio\n",
    "    na_portfolio = np.loadtxt('tutorial3portfolio.csv', dtype='S5,f4',\n",
    "                        delimiter=',', comments=\"#\", skiprows=1)\n",
    "    print na_portfolio"
   ]
  },
  {
   "cell_type": "code",
   "execution_count": 11,
   "metadata": {},
   "outputs": [
    {
     "name": "stdout",
     "output_type": "stream",
     "text": [
      "[('7ABBA', 0.20000000298023224), ('GABBA', 0.20000000298023224), ('GLD', 0.30000001192092896), ('SPY', 0.30000001192092896)]\n"
     ]
    }
   ],
   "source": [
    "    # Sorting the portfolio by symbol name\n",
    "    na_portfolio = sorted(na_portfolio, key=lambda x: x[0])\n",
    "    print na_portfolio"
   ]
  },
  {
   "cell_type": "code",
   "execution_count": 15,
   "metadata": {},
   "outputs": [
    {
     "name": "stdout",
     "output_type": "stream",
     "text": [
      "0.2\n"
     ]
    },
    {
     "data": {
      "text/plain": [
       "numpy.void"
      ]
     },
     "execution_count": 15,
     "metadata": {},
     "output_type": "execute_result"
    }
   ],
   "source": [
    "print na_portfolio[0][1]\n",
    "\n",
    "type(na_portfolio[0])"
   ]
  },
  {
   "cell_type": "code",
   "execution_count": 16,
   "metadata": {
    "collapsed": true
   },
   "outputs": [],
   "source": [
    "    # Create two list for symbol names and allocation\n",
    "    ls_port_syms = []\n",
    "    lf_port_alloc = []\n",
    "    for port in na_portfolio:\n",
    "        ls_port_syms.append(port[0])\n",
    "        lf_port_alloc.append(port[1])"
   ]
  },
  {
   "cell_type": "code",
   "execution_count": 17,
   "metadata": {
    "collapsed": true
   },
   "outputs": [],
   "source": [
    "    # Creating an object of the dataaccess class with Yahoo as the source.\n",
    "    c_dataobj = da.DataAccess('Yahoo')\n",
    "    ls_all_syms = c_dataobj.get_all_symbols()\n"
   ]
  },
  {
   "cell_type": "code",
   "execution_count": 22,
   "metadata": {},
   "outputs": [
    {
     "name": "stdout",
     "output_type": "stream",
     "text": [
      "Portfolio contains bad symbols :  ['7ABBA', 'GABBA']\n"
     ]
    }
   ],
   "source": [
    "    # Bad symbols are symbols present in portfolio but not in all syms\n",
    "    ls_bad_syms = list(set(ls_port_syms) - set(ls_all_syms))\n",
    "\n",
    "    if len(ls_bad_syms) != 0:\n",
    "        print \"Portfolio contains bad symbols : \", ls_bad_syms\n",
    "\n",
    "    for s_sym in ls_bad_syms:\n",
    "        i_index = ls_port_syms.index(s_sym)\n",
    "        ls_port_syms.pop(i_index)\n",
    "        lf_port_alloc.pop(i_index)"
   ]
  },
  {
   "cell_type": "code",
   "execution_count": 23,
   "metadata": {
    "collapsed": true
   },
   "outputs": [],
   "source": [
    "    # Reading the historical data.\n",
    "    dt_end = dt.datetime(2011, 1, 1)\n",
    "    dt_start = dt_end - dt.timedelta(days=1095)  # Three years\n",
    "    # We need closing prices so the timestamp should be hours=16.\n",
    "    dt_timeofday = dt.timedelta(hours=16)\n",
    "\n",
    "    # Get a list of trading days between the start and the end.\n",
    "    ldt_timestamps = du.getNYSEdays(dt_start, dt_end, dt_timeofday)"
   ]
  },
  {
   "cell_type": "code",
   "execution_count": 24,
   "metadata": {
    "collapsed": true
   },
   "outputs": [],
   "source": [
    "    # Keys to be read from the data, it is good to read everything in one go.\n",
    "    ls_keys = ['open', 'high', 'low', 'close', 'volume', 'actual_close']\n",
    "\n",
    "    # Reading the data, now d_data is a dictionary with the keys above.\n",
    "    # Timestamps and symbols are the ones that were specified before.\n",
    "    ldf_data = c_dataobj.get_data(ldt_timestamps, ls_port_syms, ls_keys)\n",
    "    d_data = dict(zip(ls_keys, ldf_data))\n"
   ]
  },
  {
   "cell_type": "code",
   "execution_count": 31,
   "metadata": {
    "collapsed": true
   },
   "outputs": [],
   "source": [
    "    # Copying close price into separate dataframe to find rets\n",
    "    df_rets = d_data['close'].copy()\n",
    "    # Filling the data.\n",
    "    df_rets = df_rets.fillna(method='ffill')\n",
    "    df_rets = df_rets.fillna(method='bfill')\n",
    "    df_rets = df_rets.fillna(1.0)\n",
    "\n",
    "    # Numpy matrix of filled data values\n",
    "    na_rets = df_rets.values"
   ]
  },
  {
   "cell_type": "code",
   "execution_count": 33,
   "metadata": {},
   "outputs": [
    {
     "data": {
      "text/plain": [
       "(757L, 2L)"
      ]
     },
     "execution_count": 33,
     "metadata": {},
     "output_type": "execute_result"
    }
   ],
   "source": [
    "na_rets.shape"
   ]
  },
  {
   "cell_type": "code",
   "execution_count": 34,
   "metadata": {},
   "outputs": [
    {
     "data": {
      "text/plain": [
       "array([[ 0.        ,  0.        ],\n",
       "       [ 0.00836672, -0.00045403],\n",
       "       [-0.00514199, -0.02452873],\n",
       "       ..., \n",
       "       [ 0.00357091,  0.00073728],\n",
       "       [-0.00493791, -0.00155534],\n",
       "       [ 0.01233307,  0.00024596]])"
      ]
     },
     "execution_count": 34,
     "metadata": {},
     "output_type": "execute_result"
    }
   ],
   "source": [
    "    # returnize0 works on ndarray and not dataframes.\n",
    "    tsu.returnize0(na_rets)"
   ]
  },
  {
   "cell_type": "code",
   "execution_count": 35,
   "metadata": {
    "collapsed": true
   },
   "outputs": [],
   "source": [
    "    # Estimate portfolio returns\n",
    "    na_portrets = np.sum(na_rets * lf_port_alloc, axis=1)\n",
    "    na_port_total = np.cumprod(na_portrets + 1)\n",
    "    na_component_total = np.cumprod(na_rets + 1, axis=0)"
   ]
  },
  {
   "cell_type": "code",
   "execution_count": 37,
   "metadata": {},
   "outputs": [
    {
     "data": {
      "text/plain": [
       "(757L,)"
      ]
     },
     "execution_count": 37,
     "metadata": {},
     "output_type": "execute_result"
    }
   ],
   "source": [
    "na_portrets.shape"
   ]
  },
  {
   "cell_type": "code",
   "execution_count": 40,
   "metadata": {},
   "outputs": [
    {
     "data": {
      "text/plain": [
       "(757L,)"
      ]
     },
     "execution_count": 40,
     "metadata": {},
     "output_type": "execute_result"
    }
   ],
   "source": [
    "na_port_total.shape"
   ]
  },
  {
   "cell_type": "code",
   "execution_count": 41,
   "metadata": {},
   "outputs": [
    {
     "data": {
      "text/plain": [
       "(757L, 2L)"
      ]
     },
     "execution_count": 41,
     "metadata": {},
     "output_type": "execute_result"
    }
   ],
   "source": [
    "na_component_total.shape"
   ]
  },
  {
   "cell_type": "code",
   "execution_count": 42,
   "metadata": {},
   "outputs": [
    {
     "data": {
      "text/plain": [
       "<matplotlib.figure.Figure at 0x9725550>"
      ]
     },
     "metadata": {},
     "output_type": "display_data"
    },
    {
     "data": {
      "image/png": "[encoded data removed]",
      "text/plain": [
       "<matplotlib.figure.Figure at 0x9725518>"
      ]
     },
     "metadata": {},
     "output_type": "display_data"
    }
   ],
   "source": [
    "    # Plotting the results\n",
    "    plt.clf()\n",
    "    fig = plt.figure()\n",
    "    fig.add_subplot(111)\n",
    "    plt.plot(ldt_timestamps, na_component_total, alpha=0.4)\n",
    "    plt.plot(ldt_timestamps, na_port_total)\n",
    "    ls_names = ls_port_syms\n",
    "    ls_names.append('Portfolio')\n",
    "    plt.legend(ls_names)\n",
    "    plt.ylabel('Cumulative Returns')\n",
    "    plt.xlabel('Date')\n",
    "    fig.autofmt_xdate(rotation=45)\n",
    "    plt.show()\n",
    "    "
   ]
  },
  {
   "cell_type": "code",
   "execution_count": null,
   "metadata": {
    "collapsed": true
   },
   "outputs": [],
   "source": []
  }
 ],
 "metadata": {
  "kernelspec": {
   "display_name": "Python 2",
   "language": "python",
   "name": "python2"
  },
  "language_info": {
   "codemirror_mode": {
    "name": "ipython",
    "version": 2
   },
   "file_extension": ".py",
   "mimetype": "text/x-python",
   "name": "python",
   "nbconvert_exporter": "python",
   "pygments_lexer": "ipython2",
   "version": "2.7.13"
  }
 },
 "nbformat": 4,
 "nbformat_minor": 2
}
